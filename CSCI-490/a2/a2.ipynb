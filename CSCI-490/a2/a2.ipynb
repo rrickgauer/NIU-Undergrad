{
  "nbformat": 4,
  "nbformat_minor": 0,
  "metadata": {
    "colab": {
      "name": "Assignment2.ipynb",
      "provenance": [],
      "collapsed_sections": [
        "_vDxxXUtOmyL"
      ]
    },
    "kernelspec": {
      "name": "python3",
      "display_name": "Python 3"
    }
  },
  "cells": [
    {
      "cell_type": "markdown",
      "metadata": {
        "id": "xVY6e7ir4GY-",
        "colab_type": "text"
      },
      "source": [
        "# Assignment 2"
      ]
    },
    {
      "cell_type": "markdown",
      "metadata": {
        "id": "LPHRfb-Q4o4E",
        "colab_type": "text"
      },
      "source": [
        "* Ryan Rickgauer\n",
        "* z1729300"
      ]
    },
    {
      "cell_type": "markdown",
      "metadata": {
        "id": "EN3gzFz2si88",
        "colab_type": "text"
      },
      "source": [
        "Import required libraries"
      ]
    },
    {
      "cell_type": "code",
      "metadata": {
        "id": "OmNwgLjtsWnp",
        "colab_type": "code",
        "colab": {}
      },
      "source": [
        "from sklearn.model_selection import train_test_split\n",
        "from sklearn.pipeline import make_pipeline\n",
        "from sklearn.linear_model import Ridge, Lasso, ElasticNet\n",
        "import pandas as pd\n",
        "import matplotlib.pyplot as plt\n",
        "import numpy as np\n",
        "from sklearn.preprocessing import StandardScaler, OneHotEncoder, LabelEncoder\n",
        "from sklearn.compose import ColumnTransformer, make_column_transformer\n",
        "from sklearn.pipeline import Pipeline\n",
        "from sklearn.linear_model import LinearRegression\n",
        "from sklearn.neighbors import KNeighborsRegressor\n",
        "from sklearn.model_selection import cross_val_score\n",
        "import warnings\n",
        "from sklearn.exceptions import ConvergenceWarning\n",
        "from sklearn.model_selection import GridSearchCV\n",
        "from operator import itemgetter"
      ],
      "execution_count": 0,
      "outputs": []
    },
    {
      "cell_type": "markdown",
      "metadata": {
        "id": "LKpfzwVbuz8M",
        "colab_type": "text"
      },
      "source": [
        "## Question 1"
      ]
    },
    {
      "cell_type": "code",
      "metadata": {
        "id": "Shup9WLmtek-",
        "colab_type": "code",
        "colab": {
          "base_uri": "https://localhost:8080/",
          "height": 297
        },
        "outputId": "5bca911f-66c9-4362-f223-c84fa2b3d1ba"
      },
      "source": [
        "# function to quickly plot a histogram subplot of the data\n",
        "def plot(data, ax, x, y, title):\n",
        "    ax[y, x].hist(data, 20)\n",
        "    ax[y, x].set_title(title)\n",
        "\n",
        "data = pd.read_excel(\"http://www.amstat.org/publications/jse/v19n3/decock/AmesHousing.xls\")\n",
        "\n",
        "# create subplots\n",
        "fig, ax = plt.subplots(4, 5)\n",
        "\n",
        "# row 1\n",
        "plot(data['Lot Frontage'], ax, 0, 0, 'Lot Frontage')\n",
        "plot(data['Lot Area'], ax, 1, 0, 'Lot Area')\n",
        "plot(data['Mas Vnr Area'], ax, 2, 0, 'Mas Vnr Area')\n",
        "plot(data['BsmtFin SF 1'], ax, 3, 0, 'BsmtFin SF 1')\n",
        "plot(data['BsmtFin SF 2'], ax, 4, 0, 'BsmtFin SF 2')\n",
        "\n",
        "# row 2\n",
        "plot(data['Bsmt Unf SF'], ax, 0, 1, 'Bsmt Unf SF')\n",
        "plot(data['Total Bsmt SF'], ax, 1, 1, 'Total Bsmt SF')\n",
        "plot(data['1st Flr SF'], ax, 2, 1, '1st Flr SF')\n",
        "plot(data['2nd Flr SF'], ax, 3, 1, '2nd Flr SF')\n",
        "plot(data['Low Qual Fin SF'], ax, 4, 1, 'Low Qual Fin SF')\n",
        "\n",
        "# row 3\n",
        "plot(data['Gr Liv Area'], ax, 0, 2, 'Gr Liv Area')\n",
        "plot(data['Garage Area'], ax, 1, 2, 'Garage Area')\n",
        "plot(data['Wood Deck SF'], ax, 2, 2, 'Wood Deck SF')\n",
        "plot(data['Open Porch SF'], ax, 3, 2, 'Open Porch SF')\n",
        "plot(data['Enclosed Porch'], ax, 4, 2, 'Enclosed Porch')\n",
        "\n",
        "# row 4\n",
        "plot(data['3Ssn Porch'], ax, 0, 3, '3Ssn Porch')\n",
        "plot(data['Screen Porch'], ax, 1, 3, 'Screen Porch')\n",
        "plot(data['Pool Area'], ax, 2, 3, 'Pool Area')\n",
        "plot(data['Misc Val'], ax, 3, 3, 'Misc Val')\n",
        "plot(data['SalePrice'], ax, 4, 3, 'SalePrice')\n",
        "\n",
        "fig.tight_layout()\n",
        "plt.show()"
      ],
      "execution_count": 49,
      "outputs": [
        {
          "output_type": "display_data",
          "data": {
            "image/png": "[encoded data removed]",
            "text/plain": [
              "<Figure size 432x288 with 20 Axes>"
            ]
          },
          "metadata": {
            "tags": []
          }
        }
      ]
    },
    {
      "cell_type": "markdown",
      "metadata": {
        "id": "_616dSHHumIQ",
        "colab_type": "text"
      },
      "source": [
        "Something that might required special treatment is that there are zeveral 0 values in the data. They will need to be dealt with later."
      ]
    },
    {
      "cell_type": "markdown",
      "metadata": {
        "id": "R6jSP6ky3_xS",
        "colab_type": "text"
      },
      "source": [
        "## Question 2"
      ]
    },
    {
      "cell_type": "code",
      "metadata": {
        "id": "wyDKxqR32tZl",
        "colab_type": "code",
        "colab": {
          "base_uri": "https://localhost:8080/",
          "height": 294
        },
        "outputId": "f70e99d1-b780-45bf-d68e-dbe36e41844c"
      },
      "source": [
        "fig, ax = plt.subplots(4, 5)\n",
        "\n",
        "ax[0, 0].scatter(data['Lot Frontage'], data['SalePrice'])\n",
        "ax[0, 1].scatter(data['Lot Area'], data['SalePrice'])\n",
        "ax[0, 2].scatter(data['Mas Vnr Area'], data['SalePrice'])\n",
        "ax[0, 3].scatter(data['BsmtFin SF 1'], data['SalePrice'])\n",
        "ax[0, 4].scatter(data['BsmtFin SF 2'], data['SalePrice'])\n",
        "\n",
        "# row 2\n",
        "ax[1, 0].scatter(data['Bsmt Unf SF'], data['SalePrice'])\n",
        "ax[1, 1].scatter(data['Total Bsmt SF'], data['SalePrice'])\n",
        "ax[1, 2].scatter(data['1st Flr SF'], data['SalePrice'])\n",
        "ax[1, 3].scatter(data['2nd Flr SF'], data['SalePrice'])\n",
        "ax[1, 4].scatter(data['Low Qual Fin SF'], data['SalePrice'])\n",
        "\n",
        "# row 3\n",
        "ax[2, 0].scatter(data['Gr Liv Area'], data['SalePrice'])\n",
        "ax[2, 1].scatter(data['Garage Area'], data['SalePrice'])\n",
        "ax[2, 2].scatter(data['Wood Deck SF'], data['SalePrice'])\n",
        "ax[2, 3].scatter(data['Open Porch SF'], data['SalePrice'])\n",
        "ax[2, 4].scatter(data['Enclosed Porch'], data['SalePrice'])\n",
        "\n",
        "# # row 4\n",
        "ax[3, 0].scatter(data['3Ssn Porch'], data['SalePrice'])\n",
        "ax[3, 1].scatter(data['Screen Porch'], data['SalePrice'])\n",
        "ax[3, 2].scatter(data['Pool Area'], data['SalePrice'])\n",
        "ax[3, 3].scatter(data['Misc Val'], data['SalePrice'])\n",
        "ax[3, 4].scatter(data['SalePrice'], data['SalePrice'])\n",
        "\n",
        "fig.subplots_adjust(wspace=0, hspace=0)\n",
        "for x in ax.flat:\n",
        "    x.set(ylabel='Sale Price')\n",
        "    x.label_outer()\n",
        "\n",
        "fig.suptitle('Dependency of the target on each continuous feature')\n",
        "plt.show()"
      ],
      "execution_count": 50,
      "outputs": [
        {
          "output_type": "display_data",
          "data": {
            "image/png": "[encoded data removed]",
            "text/plain": [
              "<Figure size 432x288 with 20 Axes>"
            ]
          },
          "metadata": {
            "tags": []
          }
        }
      ]
    },
    {
      "cell_type": "markdown",
      "metadata": {
        "id": "Aucr-EOjOcRW",
        "colab_type": "text"
      },
      "source": [
        "## Question 3"
      ]
    },
    {
      "cell_type": "code",
      "metadata": {
        "id": "cATq4Fz6Of-d",
        "colab_type": "code",
        "colab": {
          "base_uri": "https://localhost:8080/",
          "height": 265
        },
        "outputId": "caaf0d9b-7613-4d90-db79-ba0a03b821f6"
      },
      "source": [
        "def getScoreList(X_train):\n",
        "\n",
        "    # data = getData()\n",
        "    #\n",
        "    # # train and split the data\n",
        "    # X_train, X_test, y_train, y_test = train_test_split(data, data['SalePrice'])\n",
        "    target = X_train['SalePrice']\n",
        "\n",
        "    scoreList = []\n",
        "    scoreList.append(getScores(target, X_train['MS SubClass']))\n",
        "    scoreList.append(getScores(target, X_train['MS Zoning']))\n",
        "    scoreList.append(getScores(target, X_train['Street']))\n",
        "    scoreList.append(getScores(target, X_train['Alley']))\n",
        "    scoreList.append(getScores(target, X_train['Land Contour']))\n",
        "    scoreList.append(getScores(target, X_train['Lot Config']))\n",
        "    scoreList.append(getScores(target, X_train['Neighborhood']))\n",
        "    scoreList.append(getScores(target, X_train['Condition 1']))\n",
        "    scoreList.append(getScores(target, X_train['Condition 2']))\n",
        "    scoreList.append(getScores(target, X_train['Bldg Type']))\n",
        "    scoreList.append(getScores(target, X_train['House Style']))\n",
        "    scoreList.append(getScores(target, X_train['Roof Style']))\n",
        "    scoreList.append(getScores(target, X_train['Roof Matl']))\n",
        "    scoreList.append(getScores(target, X_train['Exterior 1st']))\n",
        "    scoreList.append(getScores(target, X_train['Exterior 2nd']))\n",
        "    scoreList.append(getScores(target, X_train['Mas Vnr Type']))\n",
        "    scoreList.append(getScores(target, X_train['Foundation']))\n",
        "    scoreList.append(getScores(target, X_train['Heating']))\n",
        "    scoreList.append(getScores(target, X_train['Central Air']))\n",
        "    scoreList.append(getScores(target, X_train['Garage Type']))\n",
        "    scoreList.append(getScores(target, X_train['Misc Feature']))\n",
        "    scoreList.append(getScores(target, X_train['Sale Type']))\n",
        "    scoreList.append(getScores(target, X_train['Sale Condition']))\n",
        "\n",
        "    return scoreList\n",
        "\n",
        "def getScores(target, categories):\n",
        "\n",
        "    pr = target\n",
        "    z = categories\n",
        "\n",
        "    # get dummy data\n",
        "    # ZE=pd.get_dummies(z, prefix_sep = ['zoning'], columns=['MS Zoning'])\n",
        "    ZE=pd.get_dummies(z)\n",
        "\n",
        "    # merge the validated dummy data with the saleprice data\n",
        "    ZE_concat = pd.concat([ZE, pr], axis=1)\n",
        "\n",
        "    # validate scores\n",
        "    scores = cross_val_score(KNeighborsRegressor(), ZE_concat, ZE_concat['SalePrice'], scoring='r2')\n",
        "\n",
        "    score = {\n",
        "        'name': categories.name,\n",
        "        'scores': scores\n",
        "    }\n",
        "\n",
        "    return score\n",
        "\n",
        "def printMeans(means):\n",
        "    print('\\n\\n')\n",
        "    print(f'{\"Category Name\":20} ==>   {\"Mean\":10}')\n",
        "    for item in means:\n",
        "        print(f'{item[\"name\"]:20} ==>   {str(item[\"mean\"]):10}')\n",
        "\n",
        "def getMeans(scoreList):\n",
        "    means = []\n",
        "    for category in scoreList:\n",
        "        mean = np.mean(category['scores'])\n",
        "\n",
        "        dict = {\n",
        "            'name': str(category['name']),\n",
        "            'mean': float(mean)\n",
        "        }\n",
        "\n",
        "        means.append(dict)\n",
        "\n",
        "    return means\n",
        "\n",
        "\n",
        "\n",
        "################################################################################################\n",
        "# main\n",
        "\n",
        "\n",
        "# train and split the data\n",
        "X_train, X_test, y_train, y_test = train_test_split(data, data['SalePrice'])\n",
        "# target = X_train['SalePrice']\n",
        "\n",
        "scoreList = getScoreList(X_train)\n",
        "means = getMeans(scoreList)\n",
        "\n",
        "\n",
        "result = sorted(means, key=itemgetter('mean'))\n",
        "\n",
        "\n",
        "x = np.array(X_train['Land Contour'])\n",
        "y = np.array(X_train['SalePrice'])\n",
        "\n",
        "# print(x)\n",
        "\n",
        "\n",
        "plt.scatter(x, y)\n",
        "plt.show()"
      ],
      "execution_count": 68,
      "outputs": [
        {
          "output_type": "display_data",
          "data": {
            "image/png": "[encoded data removed]",
            "text/plain": [
              "<Figure size 432x288 with 1 Axes>"
            ]
          },
          "metadata": {
            "tags": []
          }
        }
      ]
    },
    {
      "cell_type": "markdown",
      "metadata": {
        "id": "_vDxxXUtOmyL",
        "colab_type": "text"
      },
      "source": [
        "## Question 4"
      ]
    },
    {
      "cell_type": "code",
      "metadata": {
        "id": "gvTzKFOhOopM",
        "colab_type": "code",
        "colab": {
          "base_uri": "https://localhost:8080/",
          "height": 238
        },
        "outputId": "b34a6d5a-3368-4b34-a13d-60b15b14b7c0"
      },
      "source": [
        "from sklearn.model_selection import train_test_split\n",
        "from sklearn.pipeline import make_pipeline\n",
        "from sklearn.linear_model import LogisticRegression, Ridge, Lasso, ElasticNet\n",
        "import pandas as pd\n",
        "import matplotlib.pyplot as plt\n",
        "import numpy as np\n",
        "from sklearn.preprocessing import StandardScaler, OneHotEncoder, LabelEncoder\n",
        "from sklearn.compose import ColumnTransformer, make_column_transformer\n",
        "from sklearn.pipeline import Pipeline\n",
        "from sklearn.linear_model import LinearRegression\n",
        "from sklearn.model_selection import cross_val_score\n",
        "import warnings\n",
        "from sklearn.exceptions import ConvergenceWarning\n",
        "\n",
        "def space(numSpaces = 5):\n",
        "    for x in range(numSpaces): print('')\n",
        "\n",
        "def getNorminalColumnNames():\n",
        "    categorical_features = []\n",
        "    categorical_features.append('MS SubClass')\n",
        "    categorical_features.append('MS Zoning')\n",
        "    categorical_features.append('Street')\n",
        "    categorical_features.append('Alley')\n",
        "    categorical_features.append('Land Contour')\n",
        "    categorical_features.append('Lot Config')\n",
        "    categorical_features.append('Neighborhood')\n",
        "    categorical_features.append('Condition 1')\n",
        "    categorical_features.append('Condition 2')\n",
        "    categorical_features.append('Bldg Type')\n",
        "    categorical_features.append('House Style')\n",
        "    categorical_features.append('Roof Style')\n",
        "    categorical_features.append('Roof Matl')\n",
        "    categorical_features.append('Exterior 1st')\n",
        "    categorical_features.append('Exterior 2nd')\n",
        "    categorical_features.append('Mas Vnr Type')\n",
        "    categorical_features.append('Foundation')\n",
        "    categorical_features.append('Heating')\n",
        "    categorical_features.append('Central Air')\n",
        "    categorical_features.append('Garage Type')\n",
        "    categorical_features.append('Misc Feature')\n",
        "    categorical_features.append('Sale Type')\n",
        "    categorical_features.append('Sale Condition')\n",
        "    return categorical_features\n",
        "\n",
        "\n",
        "# ignore warnings\n",
        "warnings.filterwarnings(action='ignore', category=ConvergenceWarning)\n",
        "\n",
        "# break down data\n",
        "data = pd.read_excel('http://www.amstat.org/publications/jse/v19n3/decock/AmesHousing.xls')                                     # raw dataset\n",
        "\n",
        "\n",
        "# split data\n",
        "X = data.drop(columns=['SalePrice'])                                        # all inputs\n",
        "y = data['SalePrice']                                                       # target\n",
        "\n",
        "X_train, X_test, y_train, y_test = train_test_split(X, y)\n",
        "\n",
        "# convert MS SubClass to a categorial data type\n",
        "convert_dict = {'MS SubClass': object}\n",
        "X_train = X_train.astype(convert_dict)\n",
        "\n",
        "\n",
        "\n",
        "# get a list of all the categorical feature column names\n",
        "categorical_features = list(X_train.select_dtypes(include='object').columns)      # categorical col names\n",
        "norminal_features = getNorminalColumnNames()                                # norminol col names\n",
        "ordinal_features = []                                                       # ordinal feature names\n",
        "for name in categorical_features:\n",
        "    if name not in norminal_features:\n",
        "        ordinal_features.append(name)\n",
        "\n",
        "\n",
        "# get numerical feature column list\n",
        "numerical_features = list(X_train.select_dtypes(exclude='object').columns)\n",
        "\n",
        "# drop 2 first columns (Order and PID)\n",
        "numerical_features.pop(0)\n",
        "numerical_features.pop(0)\n",
        "\n",
        "\n",
        "\n",
        "# ndrop the ordinal category_train columns\n",
        "X_train.drop(ordinal_features, axis=1, inplace=True)\n",
        "\n",
        "# replace NaN nominal values\n",
        "for cat in norminal_features:\n",
        "    X_train[cat].fillna(value='fillna value', inplace=True)\n",
        "\n",
        "# replace NaN numberical values with 0\n",
        "X_train.fillna(0, inplace=True)\n",
        "\n",
        "\n",
        "scores = {'ols': 0, 'ridge': 0, 'lasso': 0, 'elasticNet': 0}    # hold 4 calculated scores\n",
        "\n",
        "\n",
        "\n",
        "# no standard scalar\n",
        "column_trans = make_column_transformer((OneHotEncoder(handle_unknown='ignore'), norminal_features), remainder='passthrough')\n",
        "column_trans.fit_transform(X_train)\n",
        "\n",
        "# ols score\n",
        "pipeline = make_pipeline(column_trans, LinearRegression())\n",
        "scores['ols'] = cross_val_score(pipeline, X_train, y_train, scoring='r2').mean()\n",
        "\n",
        "\n",
        "# ridge score\n",
        "pipeline = make_pipeline(column_trans, Ridge())\n",
        "scores['ridge'] = cross_val_score(pipeline, X_train, y_train, scoring='r2').mean()\n",
        "\n",
        "# lasso score\n",
        "pipeline = make_pipeline(column_trans, Lasso())\n",
        "scores['lasso'] = cross_val_score(pipeline, X_train, y_train, scoring='r2').mean()\n",
        "\n",
        "# elastic net score\n",
        "pipeline = make_pipeline(column_trans, ElasticNet())\n",
        "scores['elasticNet'] = cross_val_score(pipeline, X_train, y_train, scoring='r2').mean()\n",
        "\n",
        "\n",
        "\n",
        "# print scores\n",
        "print('Calculated scores (no Standard Scaler):')\n",
        "print('* OLS:          ' + str(scores['ols']))\n",
        "print('* Ridge:        ' + str(scores['ridge']))\n",
        "print('* Lasso:        ' + str(scores['lasso']))\n",
        "print('* Elastic Net:  ' + str(scores['elasticNet']))\n",
        "\n",
        "\n",
        "# use the standard scalar\n",
        "column_trans = make_column_transformer((OneHotEncoder(handle_unknown='ignore'), norminal_features), (StandardScaler(), numerical_features), remainder='passthrough')\n",
        "column_trans.fit_transform(X_train)\n",
        "\n",
        "# ols score\n",
        "pipeline = make_pipeline(column_trans, LinearRegression())\n",
        "scores['ols'] = cross_val_score(pipeline, X_train, y_train, scoring='r2').mean()\n",
        "\n",
        "# ridge score\n",
        "pipeline = make_pipeline(column_trans, Ridge())\n",
        "scores['ridge'] = cross_val_score(pipeline, X_train, y_train, scoring='r2').mean()\n",
        "\n",
        "\n",
        "# lasso score\n",
        "pipeline = make_pipeline(column_trans, Lasso())\n",
        "scores['lasso'] = cross_val_score(pipeline, X_train, y_train, scoring='r2').mean()\n",
        "\n",
        "# elastic net score\n",
        "pipeline = make_pipeline(column_trans, ElasticNet())\n",
        "scores['elasticNet'] = cross_val_score(pipeline, X_train, y_train, scoring='r2').mean()\n",
        "\n",
        "# print scores that use standard scalar\n",
        "space(3)\n",
        "print('Calculated scores (WITH Standard Scaler):')\n",
        "print('* OLS:          ' + str(scores['ols']))\n",
        "print('* Ridge:        ' + str(scores['ridge']))\n",
        "print('* Lasso:        ' + str(scores['lasso']))\n",
        "print('* Elastic Net:  ' + str(scores['elasticNet']))\n"
      ],
      "execution_count": 69,
      "outputs": [
        {
          "output_type": "stream",
          "text": [
            "Calculated scores (no Standard Scaler):\n",
            "* OLS:          0.7113614016976509\n",
            "* Ridge:        0.061158677948938166\n",
            "* Lasso:        0.8114830389956232\n",
            "* Elastic Net:  0.777048916340902\n",
            "\n",
            "\n",
            "\n",
            "Calculated scores (WITH Standard Scaler):\n",
            "* OLS:          0.060444233475644336\n",
            "* Ridge:        0.06115867769702532\n",
            "* Lasso:        0.8115117481503307\n",
            "* Elastic Net:  0.7922866179728881\n"
          ],
          "name": "stdout"
        }
      ]
    },
    {
      "cell_type": "markdown",
      "metadata": {
        "id": "sxSyH0l1Pj1s",
        "colab_type": "text"
      },
      "source": [
        "## Question 5"
      ]
    },
    {
      "cell_type": "markdown",
      "metadata": {
        "id": "GpNAXsqoPrj6",
        "colab_type": "text"
      },
      "source": [
        "Setup data"
      ]
    },
    {
      "cell_type": "code",
      "metadata": {
        "id": "-ZNOAQcYPmMt",
        "colab_type": "code",
        "colab": {}
      },
      "source": [
        "from sklearn.model_selection import train_test_split\n",
        "from sklearn.pipeline import make_pipeline\n",
        "from sklearn.linear_model import Ridge, Lasso, ElasticNet\n",
        "import pandas as pd\n",
        "import matplotlib.pyplot as plt\n",
        "import numpy as np\n",
        "from sklearn.preprocessing import StandardScaler, OneHotEncoder, LabelEncoder\n",
        "from sklearn.compose import ColumnTransformer, make_column_transformer\n",
        "from sklearn.pipeline import Pipeline\n",
        "from sklearn.linear_model import LinearRegression\n",
        "from sklearn.neighbors import KNeighborsRegressor\n",
        "from sklearn.model_selection import cross_val_score\n",
        "import warnings\n",
        "from sklearn.exceptions import ConvergenceWarning\n",
        "from sklearn.model_selection import GridSearchCV\n",
        "\n",
        "def space(numSpaces = 5):\n",
        "    for x in range(numSpaces): print('')\n",
        "\n",
        "def getNorminalColumnNames():\n",
        "    categorical_features = []\n",
        "    categorical_features.append('MS SubClass')\n",
        "    categorical_features.append('MS Zoning')\n",
        "    categorical_features.append('Street')\n",
        "    categorical_features.append('Alley')\n",
        "    categorical_features.append('Land Contour')\n",
        "    categorical_features.append('Lot Config')\n",
        "    categorical_features.append('Neighborhood')\n",
        "    categorical_features.append('Condition 1')\n",
        "    categorical_features.append('Condition 2')\n",
        "    categorical_features.append('Bldg Type')\n",
        "    categorical_features.append('House Style')\n",
        "    categorical_features.append('Roof Style')\n",
        "    categorical_features.append('Roof Matl')\n",
        "    categorical_features.append('Exterior 1st')\n",
        "    categorical_features.append('Exterior 2nd')\n",
        "    categorical_features.append('Mas Vnr Type')\n",
        "    categorical_features.append('Foundation')\n",
        "    categorical_features.append('Heating')\n",
        "    categorical_features.append('Central Air')\n",
        "    categorical_features.append('Garage Type')\n",
        "    categorical_features.append('Misc Feature')\n",
        "    categorical_features.append('Sale Type')\n",
        "    categorical_features.append('Sale Condition')\n",
        "    return categorical_features\n",
        "\n",
        "def getTrainedData():\n",
        "    # break down data\n",
        "    data = pd.read_excel('http://www.amstat.org/publications/jse/v19n3/decock/AmesHousing.xls')                                      # raw dataset\n",
        "\n",
        "\n",
        "    # split data\n",
        "    X = data.drop(columns=['SalePrice'])                                        # all inputs\n",
        "    y = data['SalePrice']                                                       # target\n",
        "\n",
        "\n",
        "\n",
        "    # convert MS SubClass to a categorial data type\n",
        "    convert_dict = {'MS SubClass': object}\n",
        "    X = X.astype(convert_dict)\n",
        "\n",
        "\n",
        "\n",
        "    # get a list of all the categorical feature column names\n",
        "    categorical_features = list(X.select_dtypes(include='object').columns)      # categorical col names\n",
        "    norminal_features = getNorminalColumnNames()                                # norminol col names\n",
        "    ordinal_features = []                                                       # ordinal feature names\n",
        "    for name in categorical_features:\n",
        "        if name not in norminal_features:\n",
        "            ordinal_features.append(name)\n",
        "\n",
        "\n",
        "    # get numerical feature column list\n",
        "    numerical_features = list(X.select_dtypes(exclude='object').columns)\n",
        "\n",
        "    # drop 2 first columns (Order and PID)\n",
        "    numerical_features.pop(0)\n",
        "    numerical_features.pop(0)\n",
        "\n",
        "    # ndrop the ordinal category_train columns\n",
        "    X.drop(ordinal_features, axis=1, inplace=True)\n",
        "\n",
        "    # replace NaN nominal values\n",
        "    for cat in norminal_features:\n",
        "        X[cat].fillna(value='fillna value', inplace=True)\n",
        "\n",
        "    # replace NaN numberical values with 0\n",
        "    X.fillna(0, inplace=True)\n",
        "    X_train, X_test, y_train, y_test = train_test_split(X, y)\n",
        "\n",
        "\n",
        "    return (X_train, X_test, y_train, y_test, norminal_features)\n",
        "\n",
        "\n",
        "# ignore warnings\n",
        "warnings.filterwarnings(action='ignore', category=ConvergenceWarning)\n",
        "warnings.simplefilter(\"ignore\", UserWarning)\n",
        "scores = {'ols': 0, 'ridge': 0, 'lasso': 0, 'elasticNet': 0}    # hold 4 calculated scores\n",
        "X_train, X_test, y_train, y_test, norminal_features = getTrainedData()\n",
        "\n",
        "\n",
        "\n",
        "# no standard scalar\n",
        "column_trans = make_column_transformer((OneHotEncoder(handle_unknown='ignore'), norminal_features), remainder='passthrough')\n",
        "column_trans.fit_transform(X_train)"
      ],
      "execution_count": 0,
      "outputs": []
    },
    {
      "cell_type": "markdown",
      "metadata": {
        "id": "4YNbcQpmQEbH",
        "colab_type": "text"
      },
      "source": [
        "## Get new scores of the models by using GridSearchCV"
      ]
    },
    {
      "cell_type": "markdown",
      "metadata": {
        "id": "lKXCuX2aRt24",
        "colab_type": "text"
      },
      "source": [
        "Linear Regression"
      ]
    },
    {
      "cell_type": "code",
      "metadata": {
        "id": "9Qd2hLBcQP1C",
        "colab_type": "code",
        "colab": {
          "base_uri": "https://localhost:8080/",
          "height": 68
        },
        "outputId": "5582aa68-510f-46c2-953d-8e1914efd927"
      },
      "source": [
        "# score without GridSearch\n",
        "pipeline = make_pipeline(column_trans, LinearRegression())\n",
        "score = cross_val_score(pipeline, X_train, y_train, scoring='r2').mean()\n",
        "print('\\nOLS score:       ' + str(score.mean()))\n",
        "\n",
        "param_grid = {'linearregression__n_jobs': [1, 2, 3, 4, 5]}\n",
        "grid = GridSearchCV(pipeline, param_grid, cv=10)\n",
        "grid.fit(X_train, y_train)\n",
        "# print(grid.best_params_)\n",
        "print('OLS score tuned: ' + str(grid.score(X_train, y_train)))"
      ],
      "execution_count": 117,
      "outputs": [
        {
          "output_type": "stream",
          "text": [
            "\n",
            "OLS score:       0.8022052745476097\n",
            "OLS score tuned: 0.8134550987985003\n"
          ],
          "name": "stdout"
        }
      ]
    },
    {
      "cell_type": "markdown",
      "metadata": {
        "id": "S2gpSI6pSEul",
        "colab_type": "text"
      },
      "source": [
        "Ridge"
      ]
    },
    {
      "cell_type": "code",
      "metadata": {
        "id": "C0jfTgOgSJgZ",
        "colab_type": "code",
        "colab": {
          "base_uri": "https://localhost:8080/",
          "height": 68
        },
        "outputId": "68ce3352-4e8d-4d9a-f3b4-87963dd2930a"
      },
      "source": [
        "# ridge score\n",
        "pipeline = make_pipeline(column_trans, Ridge())\n",
        "score = cross_val_score(pipeline, X_train, y_train, scoring='r2')\n",
        "print('\\nRidge score:       ' + str(score.mean()))\n",
        "\n",
        "# ridge score with parameter tuning\n",
        "param_grid = {'ridge__alpha': [0, 0.01, 0.1, 1, 10, 15]}\n",
        "grid = GridSearchCV(pipeline, param_grid, cv=10)\n",
        "grid.fit(X_train, y_train)\n",
        "# print(grid.best_params_)\n",
        "print('Ridge score tuned: ' + str(grid.score(X_train, y_train)))"
      ],
      "execution_count": 118,
      "outputs": [
        {
          "output_type": "stream",
          "text": [
            "\n",
            "Ridge score:       0.060444346911195865\n",
            "Ridge score tuned: 0.06430857540818624\n"
          ],
          "name": "stdout"
        }
      ]
    },
    {
      "cell_type": "markdown",
      "metadata": {
        "id": "I5NcUgFGSSwe",
        "colab_type": "text"
      },
      "source": [
        "Lasso"
      ]
    },
    {
      "cell_type": "code",
      "metadata": {
        "id": "_rW3pyI0SUF9",
        "colab_type": "code",
        "colab": {
          "base_uri": "https://localhost:8080/",
          "height": 68
        },
        "outputId": "7584a278-7d1e-468b-d36a-885fc818516b"
      },
      "source": [
        "# lasso\n",
        "# lasso score\n",
        "pipeline = make_pipeline(column_trans, Lasso())\n",
        "score = cross_val_score(pipeline, X_train, y_train, scoring='r2').mean()\n",
        "print('\\nLasso score:       ' + str(score))\n",
        "\n",
        "# lasso score with parameter tuning\n",
        "param_grid = {'lasso__alpha': [0, 0.01, 0.1, 1, 10, 15]}\n",
        "grid = GridSearchCV(pipeline, param_grid, cv=10)\n",
        "grid.fit(X_train, y_train)\n",
        "print('Lasso score tuned: ' + str(grid.score(X_train, y_train)))"
      ],
      "execution_count": 119,
      "outputs": [
        {
          "output_type": "stream",
          "text": [
            "\n",
            "Lasso score:       0.8701222345367764\n",
            "Lasso score tuned: 0.9126164822884483\n"
          ],
          "name": "stdout"
        }
      ]
    },
    {
      "cell_type": "markdown",
      "metadata": {
        "id": "3LowiqyHWEB8",
        "colab_type": "text"
      },
      "source": [
        "Elastic Net"
      ]
    },
    {
      "cell_type": "code",
      "metadata": {
        "id": "Rdz_u-gEWFPy",
        "colab_type": "code",
        "colab": {
          "base_uri": "https://localhost:8080/",
          "height": 68
        },
        "outputId": "f7c525b5-7345-4371-b406-737073bc1d57"
      },
      "source": [
        "# elastic net score\n",
        "pipeline = make_pipeline(column_trans, ElasticNet())\n",
        "score = cross_val_score(pipeline, X_train, y_train, scoring='r2').mean()\n",
        "print('\\nElastic net score:       ' + str(score))\n",
        "\n",
        "# elastic net with gridsearch\n",
        "param_grid = {'elasticnet__alpha': [0, 0.01, 0.1, 1, 10, 15]}\n",
        "grid = GridSearchCV(pipeline, param_grid, cv=10)\n",
        "grid.fit(X_train, y_train)\n",
        "print('Elastic net score tuned: ' + str(grid.score(X_train, y_train)))"
      ],
      "execution_count": 120,
      "outputs": [
        {
          "output_type": "stream",
          "text": [
            "\n",
            "Elastic net score:       0.8589422158445501\n",
            "Elastic net score tuned: 0.9065211917908252\n"
          ],
          "name": "stdout"
        }
      ]
    },
    {
      "cell_type": "markdown",
      "metadata": {
        "id": "JvaZcCLuXJFp",
        "colab_type": "text"
      },
      "source": [
        "### Visualize the dependence of the validation score on the parameters"
      ]
    },
    {
      "cell_type": "markdown",
      "metadata": {
        "id": "x50UQ2oIczm7",
        "colab_type": "text"
      },
      "source": [
        "Get the scores for the data using different alpha values of .01, .1, 1, 10, 15"
      ]
    },
    {
      "cell_type": "code",
      "metadata": {
        "id": "6DBaKtAac1xf",
        "colab_type": "code",
        "colab": {
          "base_uri": "https://localhost:8080/",
          "height": 340
        },
        "outputId": "4e39b406-55c0-41bd-c303-43b46a9b290d"
      },
      "source": [
        "alpha = [.01, .1, 1, 10, 15]\n",
        "elastic_scores = []\n",
        "ridge_scores = []\n",
        "lasso_scores = []\n",
        "\n",
        "# elastic\n",
        "pipeline = make_pipeline(column_trans, ElasticNet(alpha=alpha[0]))\n",
        "score = cross_val_score(pipeline, X_train, y_train, scoring='r2').mean()\n",
        "elastic_scores.append(score)\n",
        "print('alpha = .01:      ' + str(score))\n",
        "# axs[0].scatter(alpha[0], score)\n",
        "\n",
        "pipeline = make_pipeline(column_trans, ElasticNet(alpha=alpha[1]))\n",
        "score = cross_val_score(pipeline, X_train, y_train, scoring='r2').mean()\n",
        "elastic_scores.append(score)\n",
        "print('alpha = .1:       ' + str(score))\n",
        "# axs[0].scatter(alpha[1], score)\n",
        "\n",
        "pipeline = make_pipeline(column_trans, ElasticNet(alpha=alpha[2]))\n",
        "score = cross_val_score(pipeline, X_train, y_train, scoring='r2').mean()\n",
        "elastic_scores.append(score)\n",
        "print('alpha = 1:        ' + str(score))\n",
        "# axs[0].scatter(alpha[2], score)\n",
        "\n",
        "pipeline = make_pipeline(column_trans, ElasticNet(alpha=alpha[3]))\n",
        "score = cross_val_score(pipeline, X_train, y_train, scoring='r2').mean()\n",
        "elastic_scores.append(score)\n",
        "print('alpha = 10:       ' + str(score))\n",
        "# axs[0].scatter(alpha[3], score)\n",
        "\n",
        "pipeline = make_pipeline(column_trans, ElasticNet(alpha=alpha[4]))\n",
        "score = cross_val_score(pipeline, X_train, y_train, scoring='r2').mean()\n",
        "elastic_scores.append(score)\n",
        "print('alpha = 15:      ' + str(score))\n",
        "# axs[0].scatter(alpha[4], score)\n",
        "\n",
        "\n",
        "\n",
        "# ridge\n",
        "print(\"\\nRidge\")\n",
        "pipeline = make_pipeline(column_trans, Ridge(alpha=alpha[0]))\n",
        "score = cross_val_score(pipeline, X_train, y_train, scoring='r2').mean()\n",
        "ridge_scores.append(score)\n",
        "print('alpha = .01:      ' + str(score))\n",
        "# axs[1].scatter(alpha[0], score)\n",
        "\n",
        "pipeline = make_pipeline(column_trans, Ridge(alpha=alpha[1]))\n",
        "score = cross_val_score(pipeline, X_train, y_train, scoring='r2').mean()\n",
        "print('alpha = .1:       ' + str(score))\n",
        "# axs[1].scatter(alpha[1], score)\n",
        "ridge_scores.append(score)\n",
        "\n",
        "pipeline = make_pipeline(column_trans, Ridge(alpha=alpha[2]))\n",
        "score = cross_val_score(pipeline, X_train, y_train, scoring='r2').mean()\n",
        "print('alpha = 1:        ' + str(score))\n",
        "# axs[1].scatter(alpha[2], score)\n",
        "ridge_scores.append(score)\n",
        "\n",
        "pipeline = make_pipeline(column_trans, Ridge(alpha=alpha[3]))\n",
        "score = cross_val_score(pipeline, X_train, y_train, scoring='r2').mean()\n",
        "print('alpha = 10:       ' + str(score))\n",
        "# axs[1].scatter(alpha[3], score)\n",
        "ridge_scores.append(score)\n",
        "\n",
        "pipeline = make_pipeline(column_trans, Ridge(alpha=alpha[4]))\n",
        "score = cross_val_score(pipeline, X_train, y_train, scoring='r2').mean()\n",
        "print('alpha = 15:      ' + str(score))\n",
        "# axs[1].scatter(alpha[4], score)\n",
        "ridge_scores.append(score)\n",
        "\n",
        "\n",
        "# lasso\n",
        "print(\"\\nLasso\")\n",
        "pipeline = make_pipeline(column_trans, Lasso(alpha=alpha[0]))\n",
        "score = cross_val_score(pipeline, X_train, y_train, scoring='r2').mean()\n",
        "print('alpha = .01:      ' + str(score))\n",
        "# axs[2].scatter(alpha[0], score)\n",
        "lasso_scores.append(score)\n",
        "\n",
        "pipeline = make_pipeline(column_trans, Lasso(alpha=alpha[1]))\n",
        "score = cross_val_score(pipeline, X_train, y_train, scoring='r2').mean()\n",
        "print('alpha = .1:       ' + str(score))\n",
        "# axs[2].scatter(alpha[1], score)\n",
        "lasso_scores.append(score)\n",
        "\n",
        "pipeline = make_pipeline(column_trans, Lasso(alpha=alpha[2]))\n",
        "score = cross_val_score(pipeline, X_train, y_train, scoring='r2').mean()\n",
        "print('alpha = 1:        ' + str(score))\n",
        "# axs[2].scatter(alpha[2], score)\n",
        "lasso_scores.append(score)\n",
        "\n",
        "pipeline = make_pipeline(column_trans, Lasso(alpha=alpha[3]))\n",
        "score = cross_val_score(pipeline, X_train, y_train, scoring='r2').mean()\n",
        "print('alpha = 10:       ' + str(score))\n",
        "# axs[2].scatter(alpha[3], score)\n",
        "lasso_scores.append(score)\n",
        "\n",
        "pipeline = make_pipeline(column_trans, Lasso(alpha=alpha[4]))\n",
        "score = cross_val_score(pipeline, X_train, y_train, scoring='r2').mean()\n",
        "print('alpha = 15:      ' + str(score))\n",
        "# axs[2].scatter(alpha[4], score)\n",
        "lasso_scores.append(score)\n",
        "\n"
      ],
      "execution_count": 121,
      "outputs": [
        {
          "output_type": "stream",
          "text": [
            "alpha = .01:      0.8825732120228329\n",
            "alpha = .1:       0.8792397202563255\n",
            "alpha = 1:        0.8589422158445501\n",
            "alpha = 10:       0.8201406742563269\n",
            "alpha = 15:      0.815712296906014\n",
            "\n",
            "Ridge\n",
            "alpha = .01:      0.060444346911195865\n",
            "alpha = .1:       0.060444346911195865\n",
            "alpha = 1:        0.060444346911195865\n",
            "alpha = 10:       0.060444346911195865\n",
            "alpha = 15:      0.060444346911195865\n",
            "\n",
            "Lasso\n",
            "alpha = .01:      0.8685817602504107\n",
            "alpha = .1:       0.8687175481514288\n",
            "alpha = 1:        0.8701222345367764\n",
            "alpha = 10:       0.8778433370482063\n",
            "alpha = 15:      0.8798297139853573\n"
          ],
          "name": "stdout"
        }
      ]
    },
    {
      "cell_type": "markdown",
      "metadata": {
        "id": "zj6sJRw_ml7j",
        "colab_type": "text"
      },
      "source": [
        "Visualize the dependencies"
      ]
    },
    {
      "cell_type": "code",
      "metadata": {
        "id": "nCZ46zXqiojT",
        "colab_type": "code",
        "colab": {
          "base_uri": "https://localhost:8080/",
          "height": 297
        },
        "outputId": "7416177c-7490-4d2f-d796-dcea809a4ef4"
      },
      "source": [
        "fig, axs = plt.subplots(3)\n",
        "\n",
        "axs[0].plot(alpha, elastic_scores)\n",
        "axs[1].plot(alpha, ridge_scores)\n",
        "axs[2].plot(alpha, lasso_scores)\n",
        "\n",
        "axs[0].set_title('Elastic Net')\n",
        "axs[1].set_title('Ridge')\n",
        "axs[2].set_title('Lasso')\n",
        "\n",
        "for x in axs:\n",
        "    x.set(xlabel='Alpha', ylabel='Score')\n",
        "\n",
        "plt.tight_layout()\n",
        "plt.show()"
      ],
      "execution_count": 123,
      "outputs": [
        {
          "output_type": "display_data",
          "data": {
            "image/png": "[encoded data removed]",
            "text/plain": [
              "<Figure size 432x288 with 3 Axes>"
            ]
          },
          "metadata": {
            "tags": []
          }
        }
      ]
    }
  ]
}